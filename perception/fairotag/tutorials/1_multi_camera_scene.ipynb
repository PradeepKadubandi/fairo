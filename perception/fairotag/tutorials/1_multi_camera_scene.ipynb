{
 "cells": [
  {
   "cell_type": "code",
   "execution_count": 18,
   "id": "7459cf76",
   "metadata": {},
   "outputs": [],
   "source": [
    "import os\n",
    "import pickle\n",
    "\n",
    "import cv2\n",
    "import sophus as sp\n",
    "import matplotlib.pyplot as plt\n",
    "\n",
    "import fairotag as frt"
   ]
  },
  {
   "cell_type": "code",
   "execution_count": 19,
   "id": "33a19247",
   "metadata": {},
   "outputs": [],
   "source": [
    "MARKER_LENGTH = 0.04\n",
    "NUM_CAMERAS = 3\n",
    "\n",
    "NUM_SAMPLES = 8\n",
    "DATA_DIR = \"data/1_multi_camera_scene\""
   ]
  },
  {
   "cell_type": "code",
   "execution_count": 20,
   "id": "a6b5e8c1",
   "metadata": {},
   "outputs": [],
   "source": [
    "with open(\"data/realsense_intrinsics.pkl\", 'rb') as f:\n",
    "    intrinsics = pickle.load(f)\n",
    "\n",
    "camera_modules = []\n",
    "for _ in range(NUM_CAMERAS):\n",
    "    c = frt.CameraModule()\n",
    "    c.set_intrinsics(intrinsics)\n",
    "    camera_modules.append(c)"
   ]
  },
  {
   "cell_type": "code",
   "execution_count": 21,
   "id": "1a5d694b",
   "metadata": {},
   "outputs": [],
   "source": [
    "for c in camera_modules:\n",
    "    for m_id in range(17):\n",
    "        c.register_marker_size(m_id, length=MARKER_LENGTH)"
   ]
  },
  {
   "cell_type": "code",
   "execution_count": 22,
   "id": "4fc044f9",
   "metadata": {},
   "outputs": [],
   "source": [
    "scene = frt.Scene()\n",
    "\n",
    "camera_names = [\"Master\", \"Sub1\", \"Sub2\"]\n",
    "for camera_name in camera_names:\n",
    "    pose_in_frame = sp.SE3() if camera_name == \"Master\" else None\n",
    "    scene.add_camera(camera_name, frame=\"world\", pose_in_frame=pose_in_frame)\n",
    "\n",
    "scene.add_frame(\"board\")\n",
    "for m_id in range(17):\n",
    "    pose_in_frame = sp.SE3() if m_id == 0 else None\n",
    "    scene.add_marker(m_id, frame=\"board\", length=0.02625, pose_in_frame=pose_in_frame)"
   ]
  },
  {
   "cell_type": "code",
   "execution_count": 23,
   "id": "1d9ea5b6",
   "metadata": {},
   "outputs": [
    {
     "name": "stdout",
     "output_type": "stream",
     "text": [
      "Frames: ['world', 'board']\n",
      "Info of frame 'world':\n",
      " {'name': 'world', 'pose': SE3([[1, 0, 0, 0],\n",
      "     [0, 1, 0, 0],\n",
      "     [0, 0, 1, 0],\n",
      "     [0, 0, 0, 1]]), 'markers': [], 'cameras': ['Master', 'Sub1', 'Sub2']}\n",
      "\n",
      "Cameras: ['Master', 'Sub1', 'Sub2']\n",
      "Info of camera 'Master':\n",
      " {'name': 'Master', 'frame': 'world', 'pose': SE3([[1, 0, 0, 0],\n",
      "     [0, 1, 0, 0],\n",
      "     [0, 0, 1, 0],\n",
      "     [0, 0, 0, 1]]), 'pose_in_frame': SE3([[1, 0, 0, 0],\n",
      "     [0, 1, 0, 0],\n",
      "     [0, 0, 1, 0],\n",
      "     [0, 0, 0, 1]]), 'is_anchor': True}\n",
      "\n",
      "Markers: [0, 1, 2, 3, 4, 5, 6, 7, 8, 9, 10, 11, 12, 13, 14, 15, 16]\n",
      "Info of marker '0':\n",
      " {'id': 0, 'frame': 'board', 'pose': SE3([[1, 0, 0, 0],\n",
      "     [0, 1, 0, 0],\n",
      "     [0, 0, 1, 0],\n",
      "     [0, 0, 0, 1]]), 'pose_in_frame': SE3([[1, 0, 0, 0],\n",
      "     [0, 1, 0, 0],\n",
      "     [0, 0, 1, 0],\n",
      "     [0, 0, 0, 1]]), 'length': 0.02625, 'is_anchor': True, 'is_visible': False}\n",
      "\n"
     ]
    }
   ],
   "source": [
    "# Frames\n",
    "frames = scene.get_frames()\n",
    "print(f\"Frames: {frames}\")\n",
    "print(f\"Info of frame '{frames[0]}':\\n {scene.get_frame_info(frames[0])}\\n\")\n",
    "\n",
    "# Cameras\n",
    "cameras = scene.get_cameras()\n",
    "print(f\"Cameras: {cameras}\")\n",
    "print(f\"Info of camera '{cameras[0]}':\\n {scene.get_camera_info(cameras[0])}\\n\")\n",
    "\n",
    "# Markers\n",
    "markers = scene.get_markers()\n",
    "print(f\"Markers: {markers}\")\n",
    "print(f\"Info of marker '{markers[0]}':\\n {scene.get_marker_info(markers[0])}\\n\")"
   ]
  },
  {
   "cell_type": "code",
   "execution_count": 24,
   "id": "decfe3b5",
   "metadata": {},
   "outputs": [],
   "source": [
    "# Load snapshots & detect markers\n",
    "snapshots = []\n",
    "for i in range(NUM_SAMPLES):\n",
    "    snapshot = {}\n",
    "    for c, camera_name in zip(camera_modules, camera_names):\n",
    "        imgfile = os.path.join(DATA_DIR, f\"{camera_name}_{i}.jpg\")\n",
    "        img = cv2.imread(imgfile)\n",
    "        detected_markers = c.detect_markers(img)\n",
    "        snapshot[camera_name] = detected_markers\n",
    "        \n",
    "    snapshots.append(snapshot)\n",
    "    \n",
    "# Calibrate scene\n",
    "scene.calibrate_extrinsics(snapshots)"
   ]
  },
  {
   "cell_type": "code",
   "execution_count": 25,
   "id": "105b410a",
   "metadata": {},
   "outputs": [
    {
     "name": "stdout",
     "output_type": "stream",
     "text": [
      "Cameras: ['Master', 'Sub1', 'Sub2']\n",
      "Info of camera 'Master':\n",
      " {'name': 'Master', 'frame': 'world', 'pose': SE3([[    0.999999985014506,  0.000161384745204494, -6.26574177370106e-05,  3.87170138241834e-06],\n",
      "     [-0.000161382766939069,     0.999999986479264,  3.15764973456008e-05, -2.36053127269422e-05],\n",
      "     [ 6.26625128548147e-05, -3.15663850449677e-05,     0.999999997538486,  1.98860888973526e-06],\n",
      "     [                    0,                     0,                     0,                     1]]), 'pose_in_frame': SE3([[1, 0, 0, 0],\n",
      "     [0, 1, 0, 0],\n",
      "     [0, 0, 1, 0],\n",
      "     [0, 0, 0, 1]]), 'is_anchor': True}\n",
      "\n"
     ]
    }
   ],
   "source": [
    "cameras = scene.get_cameras()\n",
    "print(f\"Cameras: {cameras}\")\n",
    "print(f\"Info of camera '{cameras[0]}':\\n {scene.get_camera_info(cameras[0])}\\n\")"
   ]
  },
  {
   "cell_type": "code",
   "execution_count": 29,
   "id": "6020e2dc",
   "metadata": {},
   "outputs": [
    {
     "data": {
      "image/png": "[encoded data removed]",
      "text/plain": [
       "<Figure size 432x288 with 1 Axes>"
      ]
     },
     "metadata": {
      "needs_background": "light"
     },
     "output_type": "display_data"
    }
   ],
   "source": [
    "scene.visualize()"
   ]
  },
  {
   "cell_type": "code",
   "execution_count": null,
   "id": "28e5e4e3",
   "metadata": {},
   "outputs": [],
   "source": []
  }
 ],
 "metadata": {
  "kernelspec": {
   "display_name": "Python 3 (ipykernel)",
   "language": "python",
   "name": "python3"
  },
  "language_info": {
   "codemirror_mode": {
    "name": "ipython",
    "version": 3
   },
   "file_extension": ".py",
   "mimetype": "text/x-python",
   "name": "python",
   "nbconvert_exporter": "python",
   "pygments_lexer": "ipython3",
   "version": "3.8.12"
  }
 },
 "nbformat": 4,
 "nbformat_minor": 5
}
