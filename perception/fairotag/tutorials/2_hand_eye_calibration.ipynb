{
 "cells": [
  {
   "cell_type": "code",
   "execution_count": null,
   "metadata": {},
   "outputs": [],
   "source": [
    "import sophus as sp\n",
    "import polymetis\n",
    "from torchcontrol.transform import Rotation as R\n",
    "\n",
    "import fairotag as frt\n",
    "from realsense_wrapper import RealsenseAPI"
   ]
  },
  {
   "cell_type": "markdown",
   "metadata": {},
   "source": [
    "Instantiate camera modules"
   ]
  },
  {
   "cell_type": "code",
   "execution_count": null,
   "metadata": {},
   "outputs": [],
   "source": [
    "rs = RealsenseAPI()\n",
    "\n",
    "cameras = []\n",
    "for intrinsics in rs.get_intrinsics():\n",
    "    camera = frt.CameraModule()\n",
    "    camera.set_intrinsics(intrinsics)\n",
    "    cameras.append(camera)"
   ]
  },
  {
   "cell_type": "markdown",
   "metadata": {},
   "source": [
    "Instantiate scene"
   ]
  },
  {
   "cell_type": "code",
   "execution_count": null,
   "metadata": {},
   "outputs": [],
   "source": [
    "scene = frt.Scene()\n",
    "\n",
    "scene.add_frame(\"ee\")\n",
    "for i, camera in enumerate(cameras):\n",
    "    scene.add_camera(f\"camera_{i + 1}\")"
   ]
  },
  {
   "cell_type": "markdown",
   "metadata": {},
   "source": [
    "Register markers"
   ]
  },
  {
   "cell_type": "code",
   "execution_count": null,
   "metadata": {},
   "outputs": [],
   "source": [
    "# Involved markers\n",
    "TABLE_MARKER = (0, 0.1)\n",
    "EE_MARKER = (12, 0.04)\n",
    "\n",
    "# Register markers in cameras\n",
    "for camera in cameras:\n",
    "    for marker in [TABLE_MARKER, EE_MARKER]:\n",
    "        camera.register_marker_size(marker[0], marker[1])\n",
    "\n",
    "# Register markers in scene\n",
    "scene.add_marker(TABLE_MARKER[0], length=TABLE_MARKER[1])\n",
    "scene.add_marker(EE_MARKER[0], length=EE_MARKER[1], frame=\"ee\")"
   ]
  },
  {
   "cell_type": "markdown",
   "metadata": {},
   "source": [
    "Collect calibration data"
   ]
  },
  {
   "cell_type": "code",
   "execution_count": null,
   "metadata": {},
   "outputs": [],
   "source": [
    "NUM_SAMPLES = 20\n",
    "POS_SAMPLE_RANGE = 0.3\n",
    "ORI_SAMPLE_RANGE = 0.5\n",
    "\n",
    "# Initialize robot control\n",
    "robot = polymetis.RobotInterface(ip=) #TODO\n",
    "robot.go_home()\n",
    "robot.move_ee_xyz(torch.Tensor([0, 0, -0.2])) # move ee to center of workspace\n",
    "ee_pos_home, ee_quat_home = robot.pose_ee()\n",
    "\n",
    "# Collect samples\n",
    "ee_poses = []\n",
    "marker_observations = []\n",
    "for i in range(NUM_SAMPLES):\n",
    "    # Sample joint positions & move there \n",
    "    ee_pos_delta = torch.empty(3).uniform_(-POS_SAMPLE_RANGE, POS_SAMPLE_RANGE)\n",
    "    ee_ori_delta = torch.empty(3).uniform_(-POS_SAMPLE_RANGE, POS_SAMPLE_RANGE)\n",
    "    ee_pos_sampled = ee_pos_home + ee_pos_delta\n",
    "    ee_quat_sampled = (R.from_quat(ee_quat_home) * R.from_rotvec(ee_ori_delta)).as_quat()\n",
    "\n",
    "    robot.set_ee_pose(pos=ee_pos_sampled, quat=ee_quat_sampled)\n",
    "\n",
    "    # Capture robot states\n",
    "    ee_pos, ee_quat = robot.pose_ee()\n",
    "    ee_pose = frt.utils.xyz_quat_to_se3(ee_pos, ee_quat)\n",
    "    ee_poses.append(ee_pose)\n",
    "\n",
    "    # Capture camera observations\n",
    "    imgs = rs.get_images()\n",
    "    marker_obs = [camera.detect_markers(img) for camera, img in zip(cameras, imgs)]\n",
    "    marker_observations.append(marker_obs)"
   ]
  },
  {
   "cell_type": "markdown",
   "metadata": {},
   "source": [
    "Optimize & visualize results"
   ]
  },
  {
   "cell_type": "code",
   "execution_count": null,
   "metadata": {},
   "outputs": [],
   "source": [
    "scene.calibrate_extrinsics(\n",
    "    detected_markers_ls=marker_observations,\n",
    "    frame_transforms_ls=[(\"world\", \"ee\", ee_pose) for ee_pose in ee_poses],\n",
    "    verbosity=1,\n",
    ")\n",
    "\n",
    "scene.visualize()"
   ]
  }
 ],
 "metadata": {
  "language_info": {
   "name": "plaintext"
  },
  "orig_nbformat": 4
 },
 "nbformat": 4,
 "nbformat_minor": 2
}
