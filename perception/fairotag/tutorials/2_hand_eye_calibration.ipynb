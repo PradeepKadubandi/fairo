{
 "cells": [
  {
   "cell_type": "code",
   "execution_count": 1,
   "metadata": {},
   "outputs": [],
   "source": [
    "import os\n",
    "import pickle\n",
    "\n",
    "import cv2\n",
    "import numpy as np\n",
    "import sophus as sp\n",
    "\n",
    "import fairotag as frt"
   ]
  },
  {
   "cell_type": "code",
   "execution_count": 2,
   "metadata": {},
   "outputs": [],
   "source": [
    "NUM_CAMERAS = 3\n",
    "NUM_SAMPLES = 12\n",
    "\n",
    "TABLE_MARKER = (0, 0.1)\n",
    "EE_MARKER = (8, 0.04)\n",
    "\n",
    "DATA_DIR = \"data/2_hand_eye_calibration\""
   ]
  },
  {
   "cell_type": "markdown",
   "metadata": {},
   "source": [
    "Instantiate camera modules"
   ]
  },
  {
   "cell_type": "code",
   "execution_count": 3,
   "metadata": {},
   "outputs": [],
   "source": [
    "with open(\"data/realsense_intrinsics.pkl\", 'rb') as f:\n",
    "    intrinsics = pickle.load(f)\n",
    "\n",
    "camera_modules = []\n",
    "for _ in range(NUM_CAMERAS):\n",
    "    c = frt.CameraModule()\n",
    "    c.set_intrinsics(intrinsics)\n",
    "    camera_modules.append(c)"
   ]
  },
  {
   "cell_type": "markdown",
   "metadata": {},
   "source": [
    "Instantiate scene"
   ]
  },
  {
   "cell_type": "code",
   "execution_count": 4,
   "metadata": {},
   "outputs": [],
   "source": [
    "scene = frt.Scene()\n",
    "\n",
    "scene.add_frame(\"ee\")\n",
    "for i, c in enumerate(camera_modules):\n",
    "    scene.add_camera(f\"camera_{i + 1}\")"
   ]
  },
  {
   "cell_type": "markdown",
   "metadata": {},
   "source": [
    "Register markers"
   ]
  },
  {
   "cell_type": "code",
   "execution_count": 5,
   "metadata": {},
   "outputs": [],
   "source": [
    "# Register markers in cameras\n",
    "for c in camera_modules:\n",
    "    for marker in [TABLE_MARKER, EE_MARKER]:\n",
    "        camera_modules.register_marker_size(marker[0], marker[1])\n",
    "\n",
    "# Register markers in scene\n",
    "scene.add_marker(TABLE_MARKER[0], length=TABLE_MARKER[1])\n",
    "scene.add_marker(EE_MARKER[0], length=EE_MARKER[1], frame=\"ee\")"
   ]
  },
  {
   "cell_type": "markdown",
   "metadata": {},
   "source": [
    "Load calibration data"
   ]
  },
  {
   "cell_type": "code",
   "execution_count": 6,
   "metadata": {},
   "outputs": [],
   "source": [
    "# Load EE pose data\n",
    "ee_pose_data = np.load(os.path.join(DATA_DIR, \"ee_poses.npz\"))\n",
    "\n",
    "ee_poses = []\n",
    "for i in range(NUM_SAMPLES):\n",
    "    ee_pos = ee_pose_data[\"pos\"][i, :]\n",
    "    ee_quat = ee_pose_data[\"quat\"][i, :]\n",
    "    ee_pose = frt.utils.xyz_quat_to_se3(ee_pos, ee_quat)\n",
    "    ee_poses.append(ee_pose)\n",
    "\n",
    "# Load image data\n",
    "marker_observations = []\n",
    "for i in range(NUM_SAMPLES):\n",
    "    imgs = []\n",
    "    for j in range(NUM_CAMERAS):\n",
    "        filename = os.path.join(DATA_DIR, f\"camera{j}_{i}.jpg\")\n",
    "        img = cv2.imread(filename)\n",
    "        imgs.append(img)\n",
    "\n",
    "    marker_obs = [c.detect_markers(img) for c, img in zip(camera_modules, imgs)]\n",
    "    marker_observations.append({f\"camera_{i + 1}\": detected_markers for i, detected_markers in enumerate(marker_obs)})"
   ]
  },
  {
   "cell_type": "markdown",
   "metadata": {},
   "source": [
    "Optimize & visualize results"
   ]
  },
  {
   "cell_type": "code",
   "execution_count": 1,
   "metadata": {},
   "outputs": [
    {
     "ename": "NameError",
     "evalue": "name 'scene' is not defined",
     "output_type": "error",
     "traceback": [
      "\u001b[0;31m---------------------------------------------------------------------------\u001b[0m",
      "\u001b[0;31mNameError\u001b[0m                                 Traceback (most recent call last)",
      "\u001b[0;32m/tmp/ipykernel_28252/1767502251.py\u001b[0m in \u001b[0;36m<module>\u001b[0;34m\u001b[0m\n\u001b[0;32m----> 1\u001b[0;31m scene.calibrate_extrinsics(\n\u001b[0m\u001b[1;32m      2\u001b[0m     \u001b[0mdetected_markers_ls\u001b[0m\u001b[0;34m=\u001b[0m\u001b[0mmarker_observations\u001b[0m\u001b[0;34m,\u001b[0m\u001b[0;34m\u001b[0m\u001b[0;34m\u001b[0m\u001b[0m\n\u001b[1;32m      3\u001b[0m     \u001b[0mframe_transforms_ls\u001b[0m\u001b[0;34m=\u001b[0m\u001b[0;34m[\u001b[0m\u001b[0;34m[\u001b[0m\u001b[0;34m(\u001b[0m\u001b[0;34m\"world\"\u001b[0m\u001b[0;34m,\u001b[0m \u001b[0;34m\"ee\"\u001b[0m\u001b[0;34m,\u001b[0m \u001b[0mee_pose\u001b[0m\u001b[0;34m)\u001b[0m\u001b[0;34m]\u001b[0m \u001b[0;32mfor\u001b[0m \u001b[0mee_pose\u001b[0m \u001b[0;32min\u001b[0m \u001b[0mee_poses\u001b[0m\u001b[0;34m]\u001b[0m\u001b[0;34m,\u001b[0m\u001b[0;34m\u001b[0m\u001b[0;34m\u001b[0m\u001b[0m\n\u001b[1;32m      4\u001b[0m     \u001b[0mverbosity\u001b[0m\u001b[0;34m=\u001b[0m\u001b[0;36m1\u001b[0m\u001b[0;34m,\u001b[0m\u001b[0;34m\u001b[0m\u001b[0;34m\u001b[0m\u001b[0m\n\u001b[1;32m      5\u001b[0m )\n",
      "\u001b[0;31mNameError\u001b[0m: name 'scene' is not defined"
     ]
    }
   ],
   "source": [
    "scene.calibrate_extrinsics(\n",
    "    detected_markers_ls=marker_observations,\n",
    "    frame_transforms_ls=[[(\"world\", \"ee\", ee_pose)] for ee_pose in ee_poses],\n",
    "    verbosity=1,\n",
    ")\n",
    "\n",
    "scene.visualize()"
   ]
  },
  {
   "cell_type": "markdown",
   "metadata": {},
   "source": [
    "Results are not ideal due to initialization issue where if the robot base is designated as the world reference, the cameras will get initialized at 0 pose because no there is no direct relationship to a known node.\n",
    "\n",
    "Changing the problem to use the table marker as origin:"
   ]
  },
  {
   "cell_type": "code",
   "execution_count": null,
   "metadata": {},
   "outputs": [],
   "source": [
    "scene = frt.Scene()\n",
    "\n",
    "scene.add_frame(\"ee\")\n",
    "for i, camera in enumerate(cameras):\n",
    "    scene.add_camera(f\"camera_{i + 1}\")\n",
    "\n",
    "# Register markers in scene\n",
    "scene.add_marker(TABLE_MARKER[0], length=TABLE_MARKER[1], pose_in_frame=sp.SE3())\n",
    "scene.add_marker(EE_MARKER[0], length=EE_MARKER[1], frame=\"ee\")"
   ]
  }
 ],
 "metadata": {
  "kernelspec": {
   "display_name": "Python 3 (ipykernel)",
   "language": "python",
   "name": "python3"
  },
  "language_info": {
   "codemirror_mode": {
    "name": "ipython",
    "version": 3
   },
   "file_extension": ".py",
   "mimetype": "text/x-python",
   "name": "python",
   "nbconvert_exporter": "python",
   "pygments_lexer": "ipython3",
   "version": "3.8.12"
  }
 },
 "nbformat": 4,
 "nbformat_minor": 2
}
