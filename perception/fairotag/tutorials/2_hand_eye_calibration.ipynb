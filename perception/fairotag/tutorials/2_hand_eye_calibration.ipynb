{
 "cells": [
  {
   "cell_type": "code",
   "execution_count": null,
   "metadata": {},
   "outputs": [],
   "source": [
    "import os\n",
    "import pickle\n",
    "\n",
    "import numpy as np\n",
    "import sophus as sp\n",
    "import polymetis\n",
    "from torchcontrol.transform import Rotation as R\n",
    "\n",
    "import fairotag as frt\n",
    "from realsense_wrapper import RealsenseAPI"
   ]
  },
  {
   "cell_type": "code",
   "execution_count": null,
   "metadata": {},
   "outputs": [],
   "source": [
    "NUM_CAMERAS = 3\n",
    "NUM_SAMPLES = 20\n",
    "\n",
    "TABLE_MARKER = (0, 0.1)\n",
    "EE_MARKER = (8, 0.04)\n",
    "\n",
    "DATA_DIR = \"data/2_hand_eye_calibration\""
   ]
  },
  {
   "cell_type": "markdown",
   "metadata": {},
   "source": [
    "Instantiate camera modules"
   ]
  },
  {
   "cell_type": "code",
   "execution_count": null,
   "metadata": {},
   "outputs": [],
   "source": [
    "with open(\"data/realsense_intrinsics.pkl\", 'rb') as f:\n",
    "    intrinsics = pickle.load(f)\n",
    "\n",
    "cameras = []\n",
    "for _ in range(NUM_CAMERAS):\n",
    "    camera = frt.CameraModule()\n",
    "    camera.set_intrinsics(intrinsics)\n",
    "    cameras.append(camera)"
   ]
  },
  {
   "cell_type": "markdown",
   "metadata": {},
   "source": [
    "Instantiate scene"
   ]
  },
  {
   "cell_type": "code",
   "execution_count": null,
   "metadata": {},
   "outputs": [],
   "source": [
    "scene = frt.Scene()\n",
    "\n",
    "scene.add_frame(\"ee\")\n",
    "for i, camera in enumerate(cameras):\n",
    "    scene.add_camera(f\"camera_{i + 1}\")"
   ]
  },
  {
   "cell_type": "markdown",
   "metadata": {},
   "source": [
    "Register markers"
   ]
  },
  {
   "cell_type": "code",
   "execution_count": null,
   "metadata": {},
   "outputs": [],
   "source": [
    "# Register markers in cameras\n",
    "for camera in cameras:\n",
    "    for marker in [TABLE_MARKER, EE_MARKER]:\n",
    "        camera.register_marker_size(marker[0], marker[1])\n",
    "\n",
    "# Register markers in scene\n",
    "scene.add_marker(TABLE_MARKER[0], length=TABLE_MARKER[1])\n",
    "scene.add_marker(EE_MARKER[0], length=EE_MARKER[1], frame=\"ee\")"
   ]
  },
  {
   "cell_type": "markdown",
   "metadata": {},
   "source": [
    "Load calibration data"
   ]
  },
  {
   "cell_type": "code",
   "execution_count": null,
   "metadata": {},
   "outputs": [],
   "source": [
    "# Load EE pose data\n",
    "ee_pose_data = numpy.load(os.path.join(DATA_DIR, \"ee_poses.npz\"))\n",
    "\n",
    "ee_poses = []\n",
    "for i in range(NUM_SAMPLES):\n",
    "    ee_pos = ee_pose_data[\"pos\"][i, :]\n",
    "    ee_quat = ee_pose_data[\"quat\"][i, :]\n",
    "    ee_pose = frt.utils.xyz_quat_to_se3(ee_pos, ee_quat)\n",
    "    ee_poses.append(ee_pose)\n",
    "\n",
    "# Load image data\n",
    "marker_observations = []\n",
    "for i in range(NUM_SAMPLES):\n",
    "    imgs = []\n",
    "    for j in range(NUM_CAMERAS):\n",
    "        filename = os.path.join(DATA_DIR, f\"camera{j}_{i}.jpg\")\n",
    "        img = cv2.imread(filename)\n",
    "        imgs.append(img)\n",
    "\n",
    "    marker_obs = [camera.detected_markers(img) for camera, img in zip(cameras, imgs)]\n",
    "    marker_observations.append(marker_obs)"
   ]
  },
  {
   "cell_type": "markdown",
   "metadata": {},
   "source": [
    "Optimize & visualize results"
   ]
  },
  {
   "cell_type": "code",
   "execution_count": null,
   "metadata": {},
   "outputs": [],
   "source": [
    "scene.calibrate_extrinsics(\n",
    "    detected_markers_ls=marker_observations,\n",
    "    frame_transforms_ls=[(\"world\", \"ee\", ee_pose) for ee_pose in ee_poses],\n",
    "    verbosity=1,\n",
    ")\n",
    "\n",
    "scene.visualize()"
   ]
  }
 ],
 "metadata": {
  "language_info": {
   "name": "plaintext"
  },
  "orig_nbformat": 4
 },
 "nbformat": 4,
 "nbformat_minor": 2
}
